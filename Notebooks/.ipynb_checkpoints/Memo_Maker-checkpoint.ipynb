{
 "cells": [
  {
   "cell_type": "markdown",
   "metadata": {
    "colab_type": "text",
    "id": "view-in-github"
   },
   "source": [
    "<a href=\"https://colab.research.google.com/github/joexu22/llama2-finetune/blob/main/Notebooks/Memo_Maker.ipynb\" target=\"_parent\"><img src=\"https://colab.research.google.com/assets/colab-badge.svg\" alt=\"Open In Colab\"/></a>"
   ]
  },
  {
   "cell_type": "markdown",
   "metadata": {
    "id": "Figo_5t9wNvU"
   },
   "source": [
    "# Converts Memo.md into Memo.pdf\n",
    "\n",
    "TODO:\n",
    "\n",
    "git hooks to do this automatically when update\n",
    "\n",
    "long term automation of \"memo making\""
   ]
  },
  {
   "cell_type": "code",
   "execution_count": 2,
   "metadata": {
    "id": "CrThbLYm2ToI"
   },
   "outputs": [
    {
     "name": "stdout",
     "output_type": "stream",
     "text": [
      "Collecting markdown\n",
      "  Downloading Markdown-3.4.4-py3-none-any.whl (94 kB)\n",
      "\u001b[K     |████████████████████████████████| 94 kB 4.9 MB/s eta 0:00:011\n",
      "\u001b[?25hCollecting pdfkit\n",
      "  Using cached pdfkit-1.0.0-py3-none-any.whl\n",
      "Collecting importlib-metadata>=4.4\n",
      "  Downloading importlib_metadata-6.8.0-py3-none-any.whl (22 kB)\n",
      "Requirement already satisfied: zipp>=0.5 in /nix/store/a4ifqpws3nf89vkscczycq9acc9yzi92-python3.9-zipp-3.4.1/lib/python3.9/site-packages (from importlib-metadata>=4.4->markdown) (3.4.1)\n",
      "Installing collected packages: importlib-metadata, pdfkit, markdown\n",
      "  Attempting uninstall: importlib-metadata\n",
      "    Found existing installation: importlib-metadata 4.0.1\n",
      "    Uninstalling importlib-metadata-4.0.1:\n",
      "\u001b[31mERROR: Could not install packages due to an OSError: [Errno 13] Permission denied: 'METADATA'\n",
      "Consider using the `--user` option or check the permissions.\n",
      "\u001b[0m\n",
      "\u001b[33mWARNING: You are using pip version 21.1.3; however, version 23.2.1 is available.\n",
      "You should consider upgrading via the '/nix/store/nki9ywqzbvz68vr75kn2r7g1q84f5agy-python3-3.9.6/bin/python3.9 -m pip install --upgrade pip' command.\u001b[0m\n",
      "E: Could not open lock file /var/lib/dpkg/lock-frontend - open (13: Permission denied)\n",
      "E: Unable to acquire the dpkg frontend lock (/var/lib/dpkg/lock-frontend), are you root?\n"
     ]
    }
   ],
   "source": [
    "# Install required packages and wkhtmltopdf\n",
    "!pip install markdown pdfkit\n",
    "!apt-get install -y wkhtmltopdf"
   ]
  },
  {
   "cell_type": "code",
   "execution_count": null,
   "metadata": {
    "id": "NmC4avTl2e5K"
   },
   "outputs": [],
   "source": [
    "!git clone https://github.com/joexu22/llama2-finetune.git"
   ]
  },
  {
   "cell_type": "code",
   "execution_count": 1,
   "metadata": {
    "id": "atl6QJOQ2ixU"
   },
   "outputs": [
    {
     "ename": "ModuleNotFoundError",
     "evalue": "No module named 'markdown'",
     "output_type": "error",
     "traceback": [
      "\u001b[0;31m---------------------------------------------------------------------------\u001b[0m",
      "\u001b[0;31mModuleNotFoundError\u001b[0m                       Traceback (most recent call last)",
      "\u001b[0;32m<ipython-input-1-7357ad5e3e0c>\u001b[0m in \u001b[0;36m<module>\u001b[0;34m\u001b[0m\n\u001b[0;32m----> 1\u001b[0;31m \u001b[0;32mimport\u001b[0m \u001b[0mmarkdown\u001b[0m\u001b[0;34m\u001b[0m\u001b[0;34m\u001b[0m\u001b[0m\n\u001b[0m\u001b[1;32m      2\u001b[0m \u001b[0;32mimport\u001b[0m \u001b[0mpdfkit\u001b[0m\u001b[0;34m\u001b[0m\u001b[0;34m\u001b[0m\u001b[0m\n\u001b[1;32m      3\u001b[0m \u001b[0;34m\u001b[0m\u001b[0m\n\u001b[1;32m      4\u001b[0m \u001b[0;31m# Function to convert Markdown to PDF\u001b[0m\u001b[0;34m\u001b[0m\u001b[0;34m\u001b[0m\u001b[0;34m\u001b[0m\u001b[0m\n\u001b[1;32m      5\u001b[0m \u001b[0;32mdef\u001b[0m \u001b[0mmarkdown_to_pdf\u001b[0m\u001b[0;34m(\u001b[0m\u001b[0mmarkdown_file_path\u001b[0m\u001b[0;34m,\u001b[0m \u001b[0mpdf_file_path\u001b[0m\u001b[0;34m)\u001b[0m\u001b[0;34m:\u001b[0m\u001b[0;34m\u001b[0m\u001b[0;34m\u001b[0m\u001b[0m\n",
      "\u001b[0;31mModuleNotFoundError\u001b[0m: No module named 'markdown'"
     ]
    }
   ],
   "source": [
    "import markdown\n",
    "import pdfkit\n",
    "\n",
    "# Function to convert Markdown to PDF\n",
    "def markdown_to_pdf(markdown_file_path, pdf_file_path):\n",
    "    # Read the Markdown file\n",
    "    with open(markdown_file_path, 'r', encoding='utf-8') as f:\n",
    "        md_content = f.read()\n",
    "\n",
    "    # Convert Markdown to HTML\n",
    "    html_content = markdown.markdown(md_content)\n",
    "\n",
    "    # Convert HTML to PDF\n",
    "    pdfkit.from_string(html_content, pdf_file_path)\n",
    "\n",
    "# Usage\n",
    "markdown_file_path = '/content/llama2-finetune/Memo.md'  # Replace with your Markdown file path\n",
    "pdf_file_path = '/content/llama2-finetune/Memo.pdf'  # Replace with your desired PDF file path\n",
    "markdown_to_pdf(markdown_file_path, pdf_file_path)\n"
   ]
  },
  {
   "cell_type": "code",
   "execution_count": null,
   "metadata": {},
   "outputs": [],
   "source": []
  }
 ],
 "metadata": {
  "colab": {
   "authorship_tag": "ABX9TyPvSoN7IMFwgRzPRCtcIUQk",
   "include_colab_link": true,
   "private_outputs": true,
   "provenance": []
  },
  "kernelspec": {
   "display_name": "Python 3",
   "language": "python",
   "name": "python3"
  },
  "language_info": {
   "codemirror_mode": {
    "name": "ipython",
    "version": 3
   },
   "file_extension": ".py",
   "mimetype": "text/x-python",
   "name": "python",
   "nbconvert_exporter": "python",
   "pygments_lexer": "ipython3",
   "version": "3.9.6"
  }
 },
 "nbformat": 4,
 "nbformat_minor": 1
}
