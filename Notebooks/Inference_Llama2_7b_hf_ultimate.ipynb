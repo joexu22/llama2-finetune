{
  "nbformat": 4,
  "nbformat_minor": 0,
  "metadata": {
    "colab": {
      "private_outputs": true,
      "provenance": [],
      "machine_shape": "hm",
      "gpuType": "A100",
      "mount_file_id": "1w5pYe7Oo-9_51hDo2VWvkdcF2ENkaFCL",
      "authorship_tag": "ABX9TyML5Eo97zTL/0M2DeSDZ8DF",
      "include_colab_link": true
    },
    "kernelspec": {
      "name": "python3",
      "display_name": "Python 3"
    },
    "language_info": {
      "name": "python"
    },
    "accelerator": "GPU"
  },
  "cells": [
    {
      "cell_type": "markdown",
      "metadata": {
        "id": "view-in-github",
        "colab_type": "text"
      },
      "source": [
        "<a href=\"https://colab.research.google.com/github/joexu22/llama2-finetune/blob/main/Notebooks/Inference_Llama2_7b_hf_ultimate.ipynb\" target=\"_parent\"><img src=\"https://colab.research.google.com/assets/colab-badge.svg\" alt=\"Open In Colab\"/></a>"
      ]
    },
    {
      "cell_type": "code",
      "source": [
        "!pip install transformers"
      ],
      "metadata": {
        "id": "3CB7XntZ2QOK"
      },
      "execution_count": null,
      "outputs": []
    },
    {
      "cell_type": "code",
      "source": [
        "from huggingface_hub import login\n",
        "login()"
      ],
      "metadata": {
        "id": "pLe6Ov4FJYfe"
      },
      "execution_count": null,
      "outputs": []
    },
    {
      "cell_type": "code",
      "source": [
        "# Load model directly from HuggingFace\n",
        "\n",
        "from transformers import AutoTokenizer, AutoModelForCausalLM\n",
        "\n",
        "tokenizer = AutoTokenizer.from_pretrained(\"hf-internal-testing/llama-tokenizer\")\n",
        "model = AutoModelForCausalLM.from_pretrained(\"meta-llama/Llama-2-7b-chat-hf\")"
      ],
      "metadata": {
        "id": "B7dwMrBi1be3"
      },
      "execution_count": null,
      "outputs": []
    },
    {
      "cell_type": "code",
      "source": [
        "# Pull Data From Repo\n",
        "# Hmm... could just use git clone, D'OH\n",
        "import requests\n",
        "\n",
        "def download_github_file(url, save_path):\n",
        "    response = requests.get(url)\n",
        "    if response.status_code == 200:\n",
        "        with open(save_path, 'wb') as f:\n",
        "            f.write(response.content)\n",
        "    else:\n",
        "        print(f\"Failed to download the file. Status code: {response.status_code}\")\n",
        "\n",
        "# Get File (make sure it's raw):\n",
        "file_url = 'https://raw.githubusercontent.com/joexu22/llama2-finetune/main/data_processing/questions.txt'\n",
        "save_path = '/content/questions.txt'\n",
        "download_github_file(file_url, save_path)"
      ],
      "metadata": {
        "id": "e9711_1j5b0l"
      },
      "execution_count": null,
      "outputs": []
    },
    {
      "cell_type": "code",
      "source": [
        "# utilize pulled model\n",
        "# load model into GPU\n",
        "\n",
        "import torch\n",
        "\n",
        "device = \"cuda:0\"\n",
        "model = model.to(device)\n",
        "\n",
        "# extract out all the lines from the list of interview questions\n",
        "# process it with \"llama response generator\" getting an interview response\n",
        "# then write it out to output\n",
        "\n",
        "with open('/content/questions.txt', encoding='utf-8') as f:\n",
        "    questions = f.readlines()\n",
        "    questions = [question.strip() for question in questions if question.strip()]\n",
        "\n",
        "# write out to file, the generated responses\n",
        "with open('/content/output.txt', 'w', encoding='utf-8') as f:\n",
        "    for question in questions:\n",
        "        # write question to output file\n",
        "        f.write(question + '\\n')\n",
        "\n",
        "        # Generate the assistant's response\n",
        "        text = f\"### Human: {question} ### Assistant: Hey bud,\"\n",
        "        inputs = tokenizer(text, return_tensors=\"pt\").to(device)\n",
        "        outputs = model.generate(**inputs, max_new_tokens=1000)\n",
        "\n",
        "        # Decode the generated text and write it to the output file\n",
        "        generated_text = tokenizer.decode(outputs[0], skip_special_tokens=True)\n",
        "        generated_text = generated_text.encode('utf-8')\n",
        "        f.write(str(generated_text) + '\\n')"
      ],
      "metadata": {
        "id": "MK40b5j35p2G"
      },
      "execution_count": null,
      "outputs": []
    }
  ]
}