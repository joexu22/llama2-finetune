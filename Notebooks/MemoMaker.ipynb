{
  "nbformat": 4,
  "nbformat_minor": 0,
  "metadata": {
    "colab": {
      "private_outputs": true,
      "provenance": [],
      "authorship_tag": "ABX9TyN+cs2cVrIl1vKBQMxGWuld",
      "include_colab_link": true
    },
    "kernelspec": {
      "name": "python3",
      "display_name": "Python 3"
    },
    "language_info": {
      "name": "python"
    }
  },
  "cells": [
    {
      "cell_type": "markdown",
      "metadata": {
        "id": "view-in-github",
        "colab_type": "text"
      },
      "source": [
        "<a href=\"https://colab.research.google.com/github/joexu22/llama2-finetune/blob/main/Notebooks/MemoMaker.ipynb\" target=\"_parent\"><img src=\"https://colab.research.google.com/assets/colab-badge.svg\" alt=\"Open In Colab\"/></a>"
      ]
    },
    {
      "cell_type": "code",
      "execution_count": null,
      "metadata": {
        "id": "CrThbLYm2ToI"
      },
      "outputs": [],
      "source": [
        "# Install required packages and wkhtmltopdf\n",
        "!pip install markdown pdfkit\n",
        "!apt-get install -y wkhtmltopdf"
      ]
    },
    {
      "cell_type": "code",
      "source": [
        "!git clone https://github.com/joexu22/llama2-finetune.git"
      ],
      "metadata": {
        "id": "NmC4avTl2e5K"
      },
      "execution_count": null,
      "outputs": []
    },
    {
      "cell_type": "code",
      "source": [
        "import markdown\n",
        "import pdfkit\n",
        "\n",
        "# Function to convert Markdown to PDF\n",
        "def markdown_to_pdf(markdown_file_path, pdf_file_path):\n",
        "    # Read the Markdown file\n",
        "    with open(markdown_file_path, 'r', encoding='utf-8') as f:\n",
        "        md_content = f.read()\n",
        "\n",
        "    # Convert Markdown to HTML\n",
        "    html_content = markdown.markdown(md_content)\n",
        "\n",
        "    # Convert HTML to PDF\n",
        "    pdfkit.from_string(html_content, pdf_file_path)\n",
        "\n",
        "# Usage\n",
        "markdown_file_path = '/content/llama2-finetune/Memo.md'  # Replace with your Markdown file path\n",
        "pdf_file_path = '/content/llama2-finetune/Memo.pdf'  # Replace with your desired PDF file path\n",
        "markdown_to_pdf(markdown_file_path, pdf_file_path)\n"
      ],
      "metadata": {
        "id": "atl6QJOQ2ixU"
      },
      "execution_count": null,
      "outputs": []
    }
  ]
}