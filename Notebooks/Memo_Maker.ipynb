{
  "cells": [
    {
      "cell_type": "markdown",
      "metadata": {
        "id": "view-in-github",
        "colab_type": "text"
      },
      "source": [
        "<a href=\"https://colab.research.google.com/github/joexu22/llama2-finetune/blob/main/Notebooks/Memo_Maker.ipynb\" target=\"_parent\"><img src=\"https://colab.research.google.com/assets/colab-badge.svg\" alt=\"Open In Colab\"/></a>"
      ]
    },
    {
      "cell_type": "markdown",
      "metadata": {
        "id": "Figo_5t9wNvU"
      },
      "source": [
        "# Converts Memo.md into Memo.pdf\n",
        "\n",
        "TODO:\n",
        "\n",
        "git hooks to do this automatically when update\n",
        "\n",
        "long term automation of \"memo making\""
      ]
    },
    {
      "cell_type": "code",
      "execution_count": null,
      "metadata": {
        "id": "CrThbLYm2ToI"
      },
      "outputs": [],
      "source": [
        "# Install required packages and wkhtmltopdf\n",
        "!pip install markdown pdfkit\n",
        "!apt-get install -y wkhtmltopdf"
      ]
    },
    {
      "cell_type": "code",
      "execution_count": null,
      "metadata": {
        "id": "NmC4avTl2e5K"
      },
      "outputs": [],
      "source": [
        "!git clone https://github.com/joexu22/llama2-finetune.git"
      ]
    },
    {
      "cell_type": "code",
      "execution_count": null,
      "metadata": {
        "id": "atl6QJOQ2ixU"
      },
      "outputs": [],
      "source": [
        "import markdown\n",
        "import pdfkit\n",
        "\n",
        "# Function to convert Markdown to PDF\n",
        "def markdown_to_pdf(markdown_file_path, pdf_file_path):\n",
        "    # Read the Markdown file\n",
        "    with open(markdown_file_path, 'r', encoding='utf-8') as f:\n",
        "        md_content = f.read()\n",
        "\n",
        "    # Convert Markdown to HTML\n",
        "    html_content = markdown.markdown(md_content)\n",
        "\n",
        "    # Convert HTML to PDF\n",
        "    pdfkit.from_string(html_content, pdf_file_path)\n",
        "\n",
        "# Usage\n",
        "markdown_file_path = '/content/llama2-finetune/Memo.md'  # Replace with your Markdown file path\n",
        "pdf_file_path = '/content/llama2-finetune/Memo.pdf'  # Replace with your desired PDF file path\n",
        "markdown_to_pdf(markdown_file_path, pdf_file_path)\n"
      ]
    },
    {
      "cell_type": "code",
      "execution_count": null,
      "metadata": {
        "id": "jp90Iy6C2rIj"
      },
      "outputs": [],
      "source": []
    }
  ],
  "metadata": {
    "colab": {
      "private_outputs": true,
      "provenance": [],
      "include_colab_link": true
    },
    "kernelspec": {
      "display_name": "Python 3",
      "language": "python",
      "name": "python3"
    },
    "language_info": {
      "codemirror_mode": {
        "name": "ipython",
        "version": 3
      },
      "file_extension": ".py",
      "mimetype": "text/x-python",
      "name": "python",
      "nbconvert_exporter": "python",
      "pygments_lexer": "ipython3",
      "version": "3.9.6"
    }
  },
  "nbformat": 4,
  "nbformat_minor": 0
}