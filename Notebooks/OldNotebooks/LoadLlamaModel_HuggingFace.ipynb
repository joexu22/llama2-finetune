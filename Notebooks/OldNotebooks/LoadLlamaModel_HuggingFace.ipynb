{
  "nbformat": 4,
  "nbformat_minor": 0,
  "metadata": {
    "colab": {
      "private_outputs": true,
      "provenance": [],
      "machine_shape": "hm",
      "gpuType": "A100",
      "authorship_tag": "ABX9TyNemRhbaUGIXo2WeeJ4/6Lv",
      "include_colab_link": true
    },
    "kernelspec": {
      "name": "python3",
      "display_name": "Python 3"
    },
    "language_info": {
      "name": "python"
    },
    "accelerator": "GPU"
  },
  "cells": [
    {
      "cell_type": "markdown",
      "metadata": {
        "id": "view-in-github",
        "colab_type": "text"
      },
      "source": [
        "<a href=\"https://colab.research.google.com/github/joexu22/llama2-finetune/blob/main/LoadLlamaModel_HuggingFace.ipynb\" target=\"_parent\"><img src=\"https://colab.research.google.com/assets/colab-badge.svg\" alt=\"Open In Colab\"/></a>"
      ]
    },
    {
      "cell_type": "code",
      "source": [
        "!pip install transformers"
      ],
      "metadata": {
        "id": "MYS-IOywRMey"
      },
      "execution_count": null,
      "outputs": []
    },
    {
      "cell_type": "code",
      "execution_count": null,
      "metadata": {
        "id": "thln3Cz6Q-MZ"
      },
      "outputs": [],
      "source": [
        "# Load model directly from HuggingFace\n",
        "from transformers import AutoTokenizer, AutoModelForCausalLM\n",
        "\n",
        "tokenizer = AutoTokenizer.from_pretrained(\"daryl149/llama-2-7b-chat-hf\")\n",
        "model = AutoModelForCausalLM.from_pretrained(\"UrbanJoe/llama2-true-llama-master\")"
      ]
    },
    {
      "cell_type": "code",
      "source": [
        "# Pull Data From Repo\n",
        "# Hmm... could just use git clone, D'OH\n",
        "import requests\n",
        "\n",
        "def download_github_file(url, save_path):\n",
        "    response = requests.get(url)\n",
        "    if response.status_code == 200:\n",
        "        with open(save_path, 'wb') as f:\n",
        "            f.write(response.content)\n",
        "    else:\n",
        "        print(f\"Failed to download the file. Status code: {response.status_code}\")\n",
        "\n",
        "# Get File (make sure it's raw):\n",
        "file_url = 'https://raw.githubusercontent.com/joexu22/llama2-finetune/main/data_processing/questions.txt'\n",
        "save_path = '/content/questions.txt'\n",
        "download_github_file(file_url, save_path)"
      ],
      "metadata": {
        "id": "7wNMqFMUsXAR"
      },
      "execution_count": null,
      "outputs": []
    },
    {
      "cell_type": "code",
      "source": [
        "# utilize pulled model\n",
        "# load model into GPU\n",
        "\n",
        "import torch\n",
        "\n",
        "device = \"cuda:0\"\n",
        "model = model.to(device)\n",
        "\n",
        "# extract out all the lines from the list of interview questions\n",
        "# process it with \"llama response generator\" getting an interview response\n",
        "# then write it out to output\n",
        "\n",
        "with open('/content/questions.txt', encoding='utf-8') as f:\n",
        "    questions = f.readlines()\n",
        "    questions = [question.strip() for question in questions if question.strip()]\n",
        "\n",
        "# write out to file, the generated responses\n",
        "with open('/content/output.txt', 'w', encoding='utf-8') as f:\n",
        "    for question in questions:\n",
        "        # write question to output file\n",
        "        f.write(question + '\\n')\n",
        "\n",
        "        # Generate the assistant's response\n",
        "        text = f\"### Human: {question} ### Assistant: Hey bud,\"\n",
        "        inputs = tokenizer(text, return_tensors=\"pt\").to(device)\n",
        "        outputs = model.generate(**inputs, max_new_tokens=1000)\n",
        "\n",
        "        # Decode the generated text and write it to the output file\n",
        "        generated_text = tokenizer.decode(outputs[0], skip_special_tokens=True)\n",
        "        generated_text = generated_text.encode('utf-8')\n",
        "        f.write(str(generated_text) + '\\n')"
      ],
      "metadata": {
        "id": "eoYmlIICNBl_"
      },
      "execution_count": null,
      "outputs": []
    },
    {
      "cell_type": "code",
      "source": [
        "# TODO: Look Into Activating GPU with HuggingFace pipeline\n",
        "\n",
        "# HuggingFace inference using their \"pipeline\" function\n",
        "# from transformers import pipeline\n",
        "# generator = pipeline(task=\"text-generation\", model=model, tokenizer = tokenizer, max_length=1000)"
      ],
      "metadata": {
        "id": "gdVBaYgIIXB7"
      },
      "execution_count": null,
      "outputs": []
    }
  ]
}